{
 "cells": [
  {
   "cell_type": "code",
   "execution_count": 1,
   "metadata": {},
   "outputs": [],
   "source": [
    "import pandas as pd\n",
    "import numpy as np"
   ]
  },
  {
   "cell_type": "code",
   "execution_count": 19,
   "metadata": {},
   "outputs": [
    {
     "name": "stdout",
     "output_type": "stream",
     "text": [
      "Collecting gTTS\n",
      "  Downloading https://files.pythonhosted.org/packages/a1/0c/4ca77eca3b739a4a08360930643f58d714e302fee0d2f8c654e67d9af8e7/gTTS-2.1.1-py3-none-any.whl\n",
      "Requirement already satisfied: requests in d:\\anaconda3\\lib\\site-packages (from gTTS) (2.21.0)\n",
      "Requirement already satisfied: click in d:\\anaconda3\\lib\\site-packages (from gTTS) (7.0)\n",
      "Requirement already satisfied: beautifulsoup4 in d:\\anaconda3\\lib\\site-packages (from gTTS) (4.6.3)\n",
      "Collecting gtts-token>=1.1.3 (from gTTS)\n",
      "  Using cached https://files.pythonhosted.org/packages/e7/25/ca6e9cd3275bfc3097fe6b06cc31db6d3dfaf32e032e0f73fead9c9a03ce/gTTS-token-1.1.3.tar.gz\n",
      "Requirement already satisfied: six in d:\\anaconda3\\lib\\site-packages (from gTTS) (1.12.0)\n",
      "Requirement already satisfied: idna<2.9,>=2.5 in d:\\anaconda3\\lib\\site-packages (from requests->gTTS) (2.8)\n",
      "Requirement already satisfied: urllib3<1.25,>=1.21.1 in d:\\anaconda3\\lib\\site-packages (from requests->gTTS) (1.24.1)\n",
      "Requirement already satisfied: certifi>=2017.4.17 in d:\\anaconda3\\lib\\site-packages (from requests->gTTS) (2019.11.28)\n",
      "Requirement already satisfied: chardet<3.1.0,>=3.0.2 in d:\\anaconda3\\lib\\site-packages (from requests->gTTS) (3.0.4)\n",
      "Building wheels for collected packages: gtts-token\n",
      "  Running setup.py bdist_wheel for gtts-token: started\n",
      "  Running setup.py bdist_wheel for gtts-token: finished with status 'done'\n",
      "  Stored in directory: C:\\Users\\Priyanshu Gupta\\AppData\\Local\\pip\\Cache\\wheels\\dd\\11\\61\\33f7e51bf545e910552b2255eead2a7cd8ef54064b46dceb34\n",
      "Successfully built gtts-token\n",
      "Installing collected packages: gtts-token, gTTS\n",
      "Successfully installed gTTS-2.1.1 gtts-token-1.1.3\n"
     ]
    }
   ],
   "source": [
    "! pip install gTTS"
   ]
  },
  {
   "cell_type": "code",
   "execution_count": 2,
   "metadata": {},
   "outputs": [],
   "source": [
    "# Import the required module for text \n",
    "# to speech conversion \n",
    "from gtts import gTTS \n",
    "\n",
    "# This module is imported so that we can \n",
    "# play the converted audio \n",
    "import os "
   ]
  },
  {
   "cell_type": "code",
   "execution_count": 3,
   "metadata": {},
   "outputs": [
    {
     "data": {
      "text/html": [
       "<div>\n",
       "<style scoped>\n",
       "    .dataframe tbody tr th:only-of-type {\n",
       "        vertical-align: middle;\n",
       "    }\n",
       "\n",
       "    .dataframe tbody tr th {\n",
       "        vertical-align: top;\n",
       "    }\n",
       "\n",
       "    .dataframe thead th {\n",
       "        text-align: right;\n",
       "    }\n",
       "</style>\n",
       "<table border=\"1\" class=\"dataframe\">\n",
       "  <thead>\n",
       "    <tr style=\"text-align: right;\">\n",
       "      <th></th>\n",
       "      <th>name</th>\n",
       "      <th>order_id</th>\n",
       "      <th>amount</th>\n",
       "      <th>delivery_status</th>\n",
       "      <th>called</th>\n",
       "    </tr>\n",
       "  </thead>\n",
       "  <tbody>\n",
       "    <tr>\n",
       "      <th>0</th>\n",
       "      <td>Priyanshu Gupta</td>\n",
       "      <td>5201</td>\n",
       "      <td>2000</td>\n",
       "      <td>failed</td>\n",
       "      <td>no</td>\n",
       "    </tr>\n",
       "  </tbody>\n",
       "</table>\n",
       "</div>"
      ],
      "text/plain": [
       "              name order_id amount delivery_status called\n",
       "0  Priyanshu Gupta     5201   2000          failed     no"
      ]
     },
     "execution_count": 3,
     "metadata": {},
     "output_type": "execute_result"
    }
   ],
   "source": [
    "df=pd.DataFrame({'name':['Priyanshu Gupta'],'order_id':['5201'],'amount':['2000'],'delivery_status':['failed'],'called':'no'})\n",
    "df"
   ]
  },
  {
   "cell_type": "code",
   "execution_count": 4,
   "metadata": {},
   "outputs": [
    {
     "name": "stdout",
     "output_type": "stream",
     "text": [
      "3\n"
     ]
    },
    {
     "data": {
      "text/html": [
       "<div>\n",
       "<style scoped>\n",
       "    .dataframe tbody tr th:only-of-type {\n",
       "        vertical-align: middle;\n",
       "    }\n",
       "\n",
       "    .dataframe tbody tr th {\n",
       "        vertical-align: top;\n",
       "    }\n",
       "\n",
       "    .dataframe thead th {\n",
       "        text-align: right;\n",
       "    }\n",
       "</style>\n",
       "<table border=\"1\" class=\"dataframe\">\n",
       "  <thead>\n",
       "    <tr style=\"text-align: right;\">\n",
       "      <th></th>\n",
       "      <th>name</th>\n",
       "      <th>order_id</th>\n",
       "      <th>amount</th>\n",
       "      <th>delivery_status</th>\n",
       "      <th>called</th>\n",
       "    </tr>\n",
       "  </thead>\n",
       "  <tbody>\n",
       "    <tr>\n",
       "      <th>0</th>\n",
       "      <td>Priyanshu Gupta</td>\n",
       "      <td>5201</td>\n",
       "      <td>2000</td>\n",
       "      <td>failed</td>\n",
       "      <td>no</td>\n",
       "    </tr>\n",
       "    <tr>\n",
       "      <th>1</th>\n",
       "      <td>alankrit</td>\n",
       "      <td>2301</td>\n",
       "      <td>300</td>\n",
       "      <td>failed</td>\n",
       "      <td>no</td>\n",
       "    </tr>\n",
       "    <tr>\n",
       "      <th>2</th>\n",
       "      <td>kartikey</td>\n",
       "      <td>5607</td>\n",
       "      <td>3760</td>\n",
       "      <td>accepted</td>\n",
       "      <td>no</td>\n",
       "    </tr>\n",
       "  </tbody>\n",
       "</table>\n",
       "</div>"
      ],
      "text/plain": [
       "              name order_id amount delivery_status called\n",
       "0  Priyanshu Gupta     5201   2000          failed     no\n",
       "1         alankrit     2301    300          failed     no\n",
       "2         kartikey     5607   3760        accepted     no"
      ]
     },
     "execution_count": 4,
     "metadata": {},
     "output_type": "execute_result"
    }
   ],
   "source": [
    "df.loc[1]=['alankrit','2301','300','failed','no']\n",
    "df.loc[2]=['kartikey','5607','3760','accepted','no']\n",
    "a=df.values\n",
    "r,c=a.shape\n",
    "print(r)\n",
    "df"
   ]
  },
  {
   "cell_type": "code",
   "execution_count": 6,
   "metadata": {},
   "outputs": [
    {
     "name": "stdout",
     "output_type": "stream",
     "text": [
      "Press 1 if you want again and 0 if not:1\n",
      "Press 1 if you want again and 0 if not:0\n",
      "Press 1 if you have not taken delivery:1\n"
     ]
    }
   ],
   "source": [
    "# Language in which you want to convert \n",
    "language = 'en'\n",
    "\n",
    "for i in range(r):\n",
    "    if((a[i][3]=='failed')or(a[i][3]=='accepted')):\n",
    "        if((a[i][4]=='no')and (a[i][3]=='failed')):\n",
    "            # The text that you want to convert to audio \n",
    "            mytext = \"hello \"+a[i][0]+\" , we tried to deliver your order, numbered: \"+a[i][1]+\" , amount\"+a[i][2]+\",today but failed to do so\"+\"if you want your product to deliver again press 1 else 0\"\n",
    "            # Passing the text and language to the engine, \n",
    "            # here we have marked slow=False. Which tells \n",
    "            # the module that the converted audio should \n",
    "            myobj = gTTS(text=mytext, lang=language, slow=False) \n",
    "            # Saving the converted audio in a mp3 file named \n",
    "            # python\n",
    "            myobj.save(\"python\"+str(i)+\".mp3\")\n",
    "            # Playing the converted file \n",
    "            os.system(\"python\"+str(i)+\".mp3\")\n",
    "            x=int(input(\"Press 1 if you want again and 0 if not:\"))\n",
    "            if(x==1):\n",
    "                a[i][3]=\"retry\"\n",
    "                a[i][4]=\"yes\"\n",
    "            else:\n",
    "                a[i][3]=\"rejected\"\n",
    "                a[i][4]=\"yes\"\n",
    "        elif(a[i][4]=='no'):\n",
    "            # The text that you want to convert to audio \n",
    "            mytext = \"hello \"+a[i][0]+\" , we have delivered your order, numbered: \"+a[i][1]+\"amount\"+a[i][2]+\"today, if you have not accepted your order press 1\"\n",
    "            # Passing the text and language to the engine, \n",
    "            # here we have marked slow=False. Which tells \n",
    "            # the module that the converted audio should \n",
    "            myobj = gTTS(text=mytext, lang=language, slow=False)\n",
    "             # Saving the converted audio in a mp3 file named \n",
    "            # python\n",
    "            myobj.save(\"python\"+str(i)+\".mp3\")\n",
    "            # Playing the converted file \n",
    "            os.system(\"python\"+str(i)+\".mp3\")\n",
    "            x=int(input(\"Press 1 if you have not taken delivery:\"))\n",
    "            if(x==1):\n",
    "                a[i][3]=\"delivered but not accepted\"\n",
    "                a[i][4]=\"yes\"\n",
    "            else:\n",
    "                a[i][4]=\"yes\"\n",
    "\n",
    "\n",
    "\n"
   ]
  },
  {
   "cell_type": "code",
   "execution_count": 7,
   "metadata": {},
   "outputs": [
    {
     "data": {
      "text/html": [
       "<div>\n",
       "<style scoped>\n",
       "    .dataframe tbody tr th:only-of-type {\n",
       "        vertical-align: middle;\n",
       "    }\n",
       "\n",
       "    .dataframe tbody tr th {\n",
       "        vertical-align: top;\n",
       "    }\n",
       "\n",
       "    .dataframe thead th {\n",
       "        text-align: right;\n",
       "    }\n",
       "</style>\n",
       "<table border=\"1\" class=\"dataframe\">\n",
       "  <thead>\n",
       "    <tr style=\"text-align: right;\">\n",
       "      <th></th>\n",
       "      <th>name</th>\n",
       "      <th>order_id</th>\n",
       "      <th>amount</th>\n",
       "      <th>delivery_status</th>\n",
       "      <th>called</th>\n",
       "    </tr>\n",
       "  </thead>\n",
       "  <tbody>\n",
       "    <tr>\n",
       "      <th>0</th>\n",
       "      <td>Priyanshu Gupta</td>\n",
       "      <td>5201</td>\n",
       "      <td>2000</td>\n",
       "      <td>retry</td>\n",
       "      <td>yes</td>\n",
       "    </tr>\n",
       "    <tr>\n",
       "      <th>1</th>\n",
       "      <td>alankrit</td>\n",
       "      <td>2301</td>\n",
       "      <td>300</td>\n",
       "      <td>rejected</td>\n",
       "      <td>yes</td>\n",
       "    </tr>\n",
       "    <tr>\n",
       "      <th>2</th>\n",
       "      <td>kartikey</td>\n",
       "      <td>5607</td>\n",
       "      <td>3760</td>\n",
       "      <td>delivered but not accepted</td>\n",
       "      <td>yes</td>\n",
       "    </tr>\n",
       "  </tbody>\n",
       "</table>\n",
       "</div>"
      ],
      "text/plain": [
       "              name order_id amount             delivery_status called\n",
       "0  Priyanshu Gupta     5201   2000                       retry    yes\n",
       "1         alankrit     2301    300                    rejected    yes\n",
       "2         kartikey     5607   3760  delivered but not accepted    yes"
      ]
     },
     "execution_count": 7,
     "metadata": {},
     "output_type": "execute_result"
    }
   ],
   "source": [
    "df"
   ]
  },
  {
   "cell_type": "code",
   "execution_count": null,
   "metadata": {},
   "outputs": [],
   "source": []
  }
 ],
 "metadata": {
  "kernelspec": {
   "display_name": "Python 3",
   "language": "python",
   "name": "python3"
  },
  "language_info": {
   "codemirror_mode": {
    "name": "ipython",
    "version": 3
   },
   "file_extension": ".py",
   "mimetype": "text/x-python",
   "name": "python",
   "nbconvert_exporter": "python",
   "pygments_lexer": "ipython3",
   "version": "3.7.1"
  }
 },
 "nbformat": 4,
 "nbformat_minor": 2
}
